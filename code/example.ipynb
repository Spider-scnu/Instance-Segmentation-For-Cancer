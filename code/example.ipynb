{
 "cells": [
  {
   "cell_type": "code",
   "execution_count": 1,
   "metadata": {},
   "outputs": [
    {
     "name": "stderr",
     "output_type": "stream",
     "text": [
      "/work/dependence/anaconda3/envs/py36/lib/python3.6/site-packages/dicom/__init__.py:53: UserWarning: \n",
      "This code is using an older version of pydicom, which is no longer \n",
      "maintained as of Jan 2017.  You can access the new pydicom features and API \n",
      "by installing `pydicom` from PyPI.\n",
      "See 'Transitioning to pydicom 1.x' section at pydicom.readthedocs.org \n",
      "for more information.\n",
      "\n",
      "  warnings.warn(msg)\n"
     ]
    }
   ],
   "source": [
    "import dicom\n",
    "import numpy as np\n",
    "import os\n",
    "from PIL import Image\n",
    "import shutil\n",
    "import scipy.misc\n",
    "import random\n",
    "from matplotlib import pyplot as plt\n",
    "import SimpleITK as sitk\n",
    "import json\n",
    "from torchvision import transforms as T\n",
    "from torchvision.transforms import functional as F\n",
    "os.environ['CUDA_VISIBLE_DEVICES'] = '2'\n",
    "import pandas as pd\n",
    "import glob\n",
    "import csv\n",
    "def rm_mkdir(dir_path):\n",
    "    if os.path.exists(dir_path):\n",
    "        shutil.rmtree(dir_path)\n",
    "        print('Remove path - %s'%dir_path)\n",
    "    os.makedirs(dir_path)\n",
    "    print('Create path - %s'%dir_path)\n",
    "def convertImage(raw):\n",
    "    img = np.array(raw)\n",
    "    img[img>255] = 255\n",
    "    mean = np.mean(img)\n",
    "    min_img = np.min(img)\n",
    "    if min_img<-1500:\n",
    "        min_img = min_img*(1.0/2.0)\n",
    "    #print(mean, min_img)\n",
    "    \n",
    "    img = img - mean\n",
    "    img = img*1.0 + mean*(mean/min_img)*1.1#修对比度和亮度\n",
    "    img = img/np.max(img)\n",
    "    #img[img>255] = 255\n",
    "    img[img<0] = 0\n",
    "    return img"
   ]
  },
  {
   "cell_type": "code",
   "execution_count": 2,
   "metadata": {},
   "outputs": [],
   "source": [
    "lis = glob.glob(os.path.join('./ISIC/dataset/cancer/B题-全部数据/数据集1/1001/arterial phase','*.dcm'))"
   ]
  },
  {
   "cell_type": "code",
   "execution_count": null,
   "metadata": {},
   "outputs": [],
   "source": [
    "image = sitk.ReadImage('./ISIC/dataset/cancer/B题-全部数据/数据集1/1060/venous phase/20011.dcm')\n",
    "image_array = sitk.GetArrayFromImage(image)\n",
    "mask_image = Image.open('./ISIC/dataset/cancer/B题-全部数据/数据集1/1060/venous phase/20011_mask.png')\n",
    "mask_image = np.array(mask_image)\n",
    "\n",
    "print(np.max(mask_image))\n",
    "plt.figure(figsize=(10,10))\n",
    "img_t = 0.3*(mask_image/255.)*convertImage(image_array)[0,:,:]+convertImage(image_array)[0,:,:]\n",
    "tmp_zeros = np.zeros(shape=(512,512,3))\n",
    "tmp_zeros[:,:,0] = 0.3*(mask_image/255.)*convertImage(image_array)[0,:,:] + convertImage(image_array)[0,:,:]\n",
    "tmp_zeros[:,:,1] = 0.2*(mask_image/255.)*convertImage(image_array)[0,:,:] + convertImage(image_array)[0,:,:]\n",
    "tmp_zeros[:,:,2] = 0.05*(mask_image/255.)*convertImage(image_array)[0,:,:] + convertImage(image_array)[0,:,:]\n",
    "plt.imshow(tmp_zeros)"
   ]
  },
  {
   "cell_type": "code",
   "execution_count": null,
   "metadata": {},
   "outputs": [],
   "source": [
    "plt.imshow(convertImage(image_array)[0,:,:],'gray')"
   ]
  },
  {
   "cell_type": "code",
   "execution_count": null,
   "metadata": {},
   "outputs": [],
   "source": [
    "tmp_img = Image.open('./ISIC/dataset/cancer/B题-全部数据/数据集1/1001/venous phase/20011_mask.png')\n",
    "Loc = (100, 170, 420, 490)\n",
    "tmp_img"
   ]
  },
  {
   "cell_type": "code",
   "execution_count": null,
   "metadata": {},
   "outputs": [],
   "source": [
    "plt.imshow(image_array[0,170:490,100:420], 'gray')"
   ]
  },
  {
   "cell_type": "markdown",
   "metadata": {},
   "source": [
    "negative : positive = 64 : 45"
   ]
  },
  {
   "cell_type": "code",
   "execution_count": null,
   "metadata": {},
   "outputs": [],
   "source": [
    "a = np.array(df.loc[df.ID==1108, 'label'])[0]\n",
    "if a=='-':\n",
    "    tmp_label = 'negative'\n",
    "else:\n",
    "    tmp_label = 'positive'\n",
    "print(tmp_label)"
   ]
  },
  {
   "cell_type": "code",
   "execution_count": 4,
   "metadata": {},
   "outputs": [],
   "source": [
    "Paths = './ISIC/dataset/cancer/B题-全部数据/数据集1/'\n",
    "frames_save_path = './ISIC/five-video-classification-methods-master/data/cancer/'\n",
    "\n",
    "list_Paths = os.listdir(Paths)\n",
    "random.shuffle(list_Paths)\n",
    "\n",
    "df = pd.read_csv('./ISIC/dataset/cancer/B题-全部数据/label2.csv', encoding = \"ISO-8859-1\")\n",
    "df = pd.DataFrame(df)\n",
    "def convertImage(raw):\n",
    "    img = np.array(raw)\n",
    "    img[img>255] = 255\n",
    "    mean = np.mean(img)\n",
    "    min_img = np.min(img)\n",
    "    if min_img<-1500:\n",
    "        min_img = min_img*(1.0/2.0)\n",
    "    #print(mean, min_img)\n",
    "    \n",
    "    img = img - mean\n",
    "    img = img*1.0 + mean*(mean/min_img)*1.1#修对比度和亮度\n",
    "    img = img/np.max(img)\n",
    "    #img[img>255] = 255\n",
    "    img[img<0] = 0\n",
    "    return img"
   ]
  },
  {
   "cell_type": "code",
   "execution_count": 5,
   "metadata": {},
   "outputs": [],
   "source": [
    "def data_augmentation(raw_path):\n",
    "    image = Image.open(raw_path)\n",
    "    \n",
    "    aspect_ratio = image.size[1]/image.size[0]\n",
    "    hw = (image.size[0],image.size[1])\n",
    "    Transform = []\n",
    "\n",
    "    ResizeRange = random.randint(300,320)\n",
    "    Transform.append(T.Resize((int(ResizeRange*aspect_ratio),ResizeRange)))\n",
    "    p_transform = random.random()\n",
    "\n",
    "    if p_transform <= 0.6:\n",
    "        \n",
    "        RotationRange = random.randint(-15,15)\n",
    "        Transform.append(T.RandomRotation((RotationRange,RotationRange)))\n",
    "        CropRange = random.randint(250,270)\n",
    "        Transform.append(T.CenterCrop((int(CropRange*aspect_ratio),CropRange)))\n",
    "        Transform = T.Compose(Transform)\n",
    "\n",
    "        image = Transform(image)\n",
    "\n",
    "        ShiftRange_left = random.randint(0,20)\n",
    "        ShiftRange_upper = random.randint(0,20)\n",
    "        ShiftRange_right = image.size[0] - random.randint(0,20)\n",
    "        ShiftRange_lower = image.size[1] - random.randint(0,20)\n",
    "        image = image.crop(box=(ShiftRange_left,ShiftRange_upper,ShiftRange_right,ShiftRange_lower))\n",
    "\n",
    "        if random.random() < 0.5:\n",
    "            image = F.hflip(image)\n",
    "\n",
    "        Transform =[]\n",
    "\n",
    "\n",
    "    Transform.append(T.Resize((hw[1], hw[0])))\n",
    "    Transform = T.Compose(Transform)\n",
    "\n",
    "    image = Transform(image)\n",
    "\n",
    "    return image, hw, p_transform"
   ]
  },
  {
   "cell_type": "code",
   "execution_count": 20,
   "metadata": {},
   "outputs": [
    {
     "name": "stdout",
     "output_type": "stream",
     "text": [
      "Remove path - ./ISIC/five-video-classification-methods-master/data/cancer/train//negative/\n",
      "Create path - ./ISIC/five-video-classification-methods-master/data/cancer/train//negative/\n",
      "Remove path - ./ISIC/five-video-classification-methods-master/data/cancer/train//positive/\n",
      "Create path - ./ISIC/five-video-classification-methods-master/data/cancer/train//positive/\n",
      "Remove path - ./ISIC/five-video-classification-methods-master/data/cancer/test//negative/\n",
      "Create path - ./ISIC/five-video-classification-methods-master/data/cancer/test//negative/\n",
      "Remove path - ./ISIC/five-video-classification-methods-master/data/cancer/test//positive/\n",
      "Create path - ./ISIC/five-video-classification-methods-master/data/cancer/test//positive/\n"
     ]
    }
   ],
   "source": [
    "trainframes_save_path = './ISIC/five-video-classification-methods-master/data/cancer/train/'\n",
    "testframes_save_path = './ISIC/five-video-classification-methods-master/data/cancer/test/'\n",
    "#rm_mkdir(frames_save_path)\n",
    "rm_mkdir(trainframes_save_path+'/negative/')\n",
    "rm_mkdir(trainframes_save_path+'/positive/')\n",
    "rm_mkdir(testframes_save_path+'/negative/')\n",
    "rm_mkdir(testframes_save_path+'/positive/')\n",
    "Loc = (170, 490, 100, 420)\n",
    "def convert_frames(root_paths, list_root_paths, record, frame_train, frame_test, loc, ratio = 0.7):\n",
    "    count = 0\n",
    "    data_file = []\n",
    "    tictoc =0 \n",
    "    for i in list_root_paths:\n",
    "        tmp_label = np.array(record.loc[record.ID==int(i), 'label'])[0]\n",
    "        if tmp_label=='-':\n",
    "            tmp_label = 'negative'\n",
    "        else:\n",
    "            tmp_label = 'positive'\n",
    "        list_period_paths = os.listdir(root_paths+i+'/')\n",
    "        for j in list_period_paths:\n",
    "            count+=1\n",
    "            countmask = 0\n",
    "            list_patient_paths = os.listdir(root_paths+i+'/'+j+'/')\n",
    "            dcm_filenames = glob.glob(os.path.join(root_paths+i+'/'+j+'/', '*.dcm'))\n",
    "            dcm_filenames = sorted(dcm_filenames)\n",
    "            mask_filenames = glob.glob(os.path.join(root_paths+i+'/'+j+'/', '*.png'))\n",
    "            mask_filenames = sorted(mask_filenames)\n",
    "            #for m, pngname in dcm_filenames, mask_filenames:\n",
    "            for k in range(len(dcm_filenames)):\n",
    "                m = dcm_filenames[k]\n",
    "                pngname = mask_filenames[k]\n",
    "                mask_img = Image.open(pngname)\n",
    "                mask_img = np.array(mask_img)\n",
    "                if k+1<len(dcm_filenames):\n",
    "                    \n",
    "                    pngname_next = mask_filenames[k+1]\n",
    "                    mask_img_next = Image.open(pngname_next)\n",
    "                    mask_img_next = np.array(mask_img_next)\n",
    "                else:\n",
    "                    #pngname_next = mask_filenames[k]\n",
    "                    #mask_img_next = Image.open(pngname)\n",
    "                    mask_img_next = mask_img\n",
    "                if (np.max(mask_img)>0) or (np.max(mask_img_next)>0):\n",
    "                    countmask+=1\n",
    "                    tmp_zeros = np.zeros(shape=(512,512,3))\n",
    "                    #mask_image = np.array(mask_image)\n",
    "                    image = sitk.ReadImage(m)\n",
    "                    image_array = sitk.GetArrayFromImage(image)\n",
    "                    dcm_image = image_array[0,:,:]\n",
    "                    convertImg = convertImage(dcm_image)\n",
    "                    \n",
    "                    \n",
    "                    tmp_zeros[:,:,0] = 0.3*(mask_img/255.)*convertImg[:,:] + convertImg[:,:]\n",
    "                    tmp_zeros[:,:,1] = 0.2*(mask_img/255.)*convertImg[:,:] + convertImg[:,:]\n",
    "                    tmp_zeros[:,:,2] = 0.05*(mask_img/255.)*convertImg[:,:] + convertImg[:,:]\n",
    "                    \n",
    "                    imgRevert = tmp_zeros[loc[0]:loc[1],loc[2]:loc[3],:]\n",
    "        \n",
    "                    #imgRevert = np.repeat(np.expand_dims(convertImg[loc[0]:loc[1],loc[2]:loc[3]],\n",
    "                    #                                     axis=2), 3, axis=2)\n",
    "                    #imgRevert\n",
    "                    m_split = m.split('/')[-1].split('.')[0]\n",
    "\n",
    "                    if count<175:\n",
    "                        scipy.misc.imsave(frame_train+tmp_label+'/'+i+'_'+j[0]+'_au0-'+m_split+'.jpg', imgRevert)\n",
    "                        au1, _, _ = data_augmentation(frame_train+tmp_label+'/'+i+'_'+j[0]+'_au0-'+m_split+'.jpg')\n",
    "                        #au1 = au1.crop(box=(loc[1], loc[0], loc[3], loc[2]))\n",
    "                        au1.save(frame_train+tmp_label+'/'+i+'_'+j[0]+'_au1-'+m_split+'.jpg')\n",
    "                        \n",
    "                    else:\n",
    "                        scipy.misc.imsave(frame_test+tmp_label+'/'+i+'_'+j[0]+'_au3-'+m_split+'.jpg', imgRevert)\n",
    "                        au2, _, _ = data_augmentation(frame_test+tmp_label+'/'+i+'_'+j[0]+'_au3-'+m_split+'.jpg')\n",
    "                        #au2 = au2.crop(box=(loc[1], loc[0], loc[3], loc[2]))\n",
    "                        au2.save(frame_train+tmp_label+'/'+i+'_'+j[0]+'_au2-'+m_split+'.jpg')\n",
    "            if count<175:\n",
    "                data_file.append(['train', tmp_label, i+'_'+j[0]+'_au0', countmask])\n",
    "                data_file.append(['train', tmp_label, i+'_'+j[0]+'_au1', countmask])\n",
    "            else:\n",
    "                data_file.append(['test', tmp_label, i+'_'+j[0]+'_au3', countmask])\n",
    "                data_file.append(['train', tmp_label, i+'_'+j[0]+'_au2', countmask])\n",
    "           \n",
    "        print(tmp_label, i, m_split, ' handling process is {}/{}'.format(tictoc, len(list_root_paths)))\n",
    "        tictoc+=1 \n",
    "    \n",
    "    with open(frames_save_path+'data_file.csv', 'w') as fout:\n",
    "        writer = csv.writer(fout)\n",
    "        writer.writerows(data_file)\n",
    "    return data_file"
   ]
  },
  {
   "cell_type": "code",
   "execution_count": 21,
   "metadata": {
    "scrolled": true
   },
   "outputs": [
    {
     "name": "stderr",
     "output_type": "stream",
     "text": [
      "/work/dependence/anaconda3/envs/py36/lib/python3.6/site-packages/ipykernel_launcher.py:65: DeprecationWarning: `imsave` is deprecated!\n",
      "`imsave` is deprecated in SciPy 1.0.0, and will be removed in 1.2.0.\n",
      "Use ``imageio.imwrite`` instead.\n"
     ]
    },
    {
     "name": "stdout",
     "output_type": "stream",
     "text": [
      "positive 1052 20025  handling process is 0/107\n",
      "positive 1069 20014  handling process is 1/107\n",
      "negative 1034 20017  handling process is 2/107\n",
      "negative 1036 20016  handling process is 3/107\n",
      "positive 1038 20017  handling process is 4/107\n",
      "negative 1053 20020  handling process is 5/107\n",
      "negative 1067 20033  handling process is 6/107\n",
      "positive 1008 20017  handling process is 7/107\n",
      "positive 1070 20015  handling process is 8/107\n",
      "positive 1103 20016  handling process is 9/107\n",
      "negative 1055 20023  handling process is 10/107\n",
      "negative 1063 20039  handling process is 11/107\n",
      "positive 1068 20018  handling process is 12/107\n",
      "negative 1010 20016  handling process is 13/107\n",
      "positive 1072 20017  handling process is 14/107\n",
      "negative 1058 20011  handling process is 15/107\n",
      "positive 1071 20017  handling process is 16/107\n",
      "negative 1011 20017  handling process is 17/107\n",
      "negative 1056 20021  handling process is 18/107\n",
      "negative 1001 20016  handling process is 19/107\n",
      "negative 1066 20015  handling process is 20/107\n",
      "negative 1089 20033  handling process is 21/107\n",
      "negative 1102 20018  handling process is 22/107\n",
      "positive 1076 20022  handling process is 23/107\n",
      "positive 1006 20014  handling process is 24/107\n",
      "positive 1045 20020  handling process is 25/107\n",
      "negative 1030 20019  handling process is 26/107\n",
      "positive 1027 20016  handling process is 27/107\n",
      "positive 1018 20015  handling process is 28/107\n",
      "negative 1048 20019  handling process is 29/107\n",
      "negative 1098 20019  handling process is 30/107\n",
      "negative 1050 20015  handling process is 31/107\n",
      "negative 1059 20018  handling process is 32/107\n",
      "negative 1092 20017  handling process is 33/107\n",
      "positive 1085 20018  handling process is 34/107\n",
      "negative 1022 20020  handling process is 35/107\n",
      "negative 1073 20023  handling process is 36/107\n",
      "negative 1005 20014  handling process is 37/107\n",
      "negative 1084 20014  handling process is 38/107\n",
      "positive 1040 20015  handling process is 39/107\n",
      "negative 1049 20022  handling process is 40/107\n",
      "negative 1007 20026  handling process is 41/107\n",
      "negative 1097 20012  handling process is 42/107\n",
      "positive 1106 20020  handling process is 43/107\n",
      "negative 1100 20013  handling process is 44/107\n",
      "positive 1081 20016  handling process is 45/107\n",
      "positive 1044 20013  handling process is 46/107\n",
      "negative 1046 20028  handling process is 47/107\n",
      "negative 1051 20028  handling process is 48/107\n",
      "positive 1020 20021  handling process is 49/107\n",
      "positive 1080 20014  handling process is 50/107\n",
      "positive 1065 20014  handling process is 51/107\n",
      "positive 1024 20015  handling process is 52/107\n",
      "positive 1002 20018  handling process is 53/107\n",
      "negative 1062 20015  handling process is 54/107\n",
      "positive 1003 20015  handling process is 55/107\n",
      "negative 1054 20019  handling process is 56/107\n",
      "negative 1029 20025  handling process is 57/107\n",
      "positive 1013 20013  handling process is 58/107\n",
      "positive 1031 20021  handling process is 59/107\n",
      "negative 1023 20014  handling process is 60/107\n",
      "negative 1088 20024  handling process is 61/107\n",
      "positive 1075 20010  handling process is 62/107\n",
      "negative 1009 20017  handling process is 63/107\n",
      "negative 1091 20018  handling process is 64/107\n",
      "positive 1079 20017  handling process is 65/107\n",
      "negative 1017 20021  handling process is 66/107\n",
      "positive 1096 20019  handling process is 67/107\n",
      "positive 1042 20023  handling process is 68/107\n",
      "negative 1041 20016  handling process is 69/107\n",
      "negative 1064 20029  handling process is 70/107\n",
      "negative 1083 20015  handling process is 71/107\n",
      "positive 1047 20017  handling process is 72/107\n",
      "negative 1108 20021  handling process is 73/107\n",
      "negative 1014 20018  handling process is 74/107\n",
      "negative 1104 20019  handling process is 75/107\n",
      "negative 1093 20018  handling process is 76/107\n",
      "positive 1057 20014  handling process is 77/107\n",
      "negative 1086 20009  handling process is 78/107\n",
      "negative 1021 20027  handling process is 79/107\n",
      "negative 1077 20014  handling process is 80/107\n",
      "negative 1078 20014  handling process is 81/107\n",
      "positive 1033 20018  handling process is 82/107\n",
      "negative 1025 20019  handling process is 83/107\n",
      "positive 1015 20019  handling process is 84/107\n",
      "negative 1074 20019  handling process is 85/107\n",
      "positive 1101 20015  handling process is 86/107\n"
     ]
    },
    {
     "name": "stderr",
     "output_type": "stream",
     "text": [
      "/work/dependence/anaconda3/envs/py36/lib/python3.6/site-packages/ipykernel_launcher.py:71: DeprecationWarning: `imsave` is deprecated!\n",
      "`imsave` is deprecated in SciPy 1.0.0, and will be removed in 1.2.0.\n",
      "Use ``imageio.imwrite`` instead.\n"
     ]
    },
    {
     "name": "stdout",
     "output_type": "stream",
     "text": [
      "negative 1107 20018  handling process is 87/107\n",
      "negative 1099 20014  handling process is 88/107\n",
      "negative 1090 20015  handling process is 89/107\n",
      "negative 1026 20019  handling process is 90/107\n",
      "positive 1043 20015  handling process is 91/107\n",
      "negative 1012 20025  handling process is 92/107\n",
      "negative 1028 20012  handling process is 93/107\n",
      "negative 1032 20022  handling process is 94/107\n",
      "positive 1061 20024  handling process is 95/107\n",
      "positive 1095 20010  handling process is 96/107\n",
      "positive 1105 20015  handling process is 97/107\n",
      "positive 1004 20025  handling process is 98/107\n",
      "positive 1019 20017  handling process is 99/107\n",
      "positive 1060 20017  handling process is 100/107\n",
      "negative 1082 20015  handling process is 101/107\n",
      "negative 1039 20023  handling process is 102/107\n",
      "negative 1087 20022  handling process is 103/107\n",
      "positive 1037 20021  handling process is 104/107\n",
      "positive 1035 20021  handling process is 105/107\n",
      "negative 1094 20016  handling process is 106/107\n"
     ]
    }
   ],
   "source": [
    "DATA_FILE = convert_frames(Paths, list_Paths, df, trainframes_save_path, testframes_save_path, Loc)"
   ]
  },
  {
   "cell_type": "code",
   "execution_count": 22,
   "metadata": {},
   "outputs": [
    {
     "name": "stdout",
     "output_type": "stream",
     "text": [
      "Remove path - ./ISIC/five-video-classification-methods-master/data/train/\n",
      "Create path - ./ISIC/five-video-classification-methods-master/data/train/\n",
      "Remove path - ./ISIC/five-video-classification-methods-master/data/test/\n",
      "Create path - ./ISIC/five-video-classification-methods-master/data/test/\n"
     ]
    }
   ],
   "source": [
    "rm_mkdir('./ISIC/five-video-classification-methods-master/data/train/')\n",
    "rm_mkdir('./ISIC/five-video-classification-methods-master/data/test/')\n",
    "! cp -r ./ISIC/five-video-classification-methods-master/data/cancer/train ./ISIC/five-video-classification-methods-master/data/\n",
    "\n",
    "! cp -r ./ISIC/five-video-classification-methods-master/data/cancer/test ./ISIC/five-video-classification-methods-master/data/\n",
    "! cp -r ./ISIC/five-video-classification-methods-master/data/cancer/data_file.csv ./ISIC/five-video-classification-methods-master/data/"
   ]
  },
  {
   "cell_type": "code",
   "execution_count": null,
   "metadata": {},
   "outputs": [],
   "source": []
  },
  {
   "cell_type": "code",
   "execution_count": null,
   "metadata": {},
   "outputs": [],
   "source": []
  },
  {
   "cell_type": "code",
   "execution_count": null,
   "metadata": {},
   "outputs": [],
   "source": []
  },
  {
   "cell_type": "code",
   "execution_count": null,
   "metadata": {},
   "outputs": [],
   "source": []
  },
  {
   "cell_type": "code",
   "execution_count": null,
   "metadata": {},
   "outputs": [],
   "source": []
  },
  {
   "cell_type": "code",
   "execution_count": null,
   "metadata": {},
   "outputs": [],
   "source": []
  }
 ],
 "metadata": {
  "kernelspec": {
   "display_name": "Python 3",
   "language": "python",
   "name": "python3"
  },
  "language_info": {
   "codemirror_mode": {
    "name": "ipython",
    "version": 3
   },
   "file_extension": ".py",
   "mimetype": "text/x-python",
   "name": "python",
   "nbconvert_exporter": "python",
   "pygments_lexer": "ipython3",
   "version": "3.6.8"
  }
 },
 "nbformat": 4,
 "nbformat_minor": 2
}
