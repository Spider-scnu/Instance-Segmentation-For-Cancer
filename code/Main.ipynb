{
 "cells": [
  {
   "cell_type": "markdown",
   "metadata": {},
   "source": [
    "### 導入模板庫"
   ]
  },
  {
   "cell_type": "code",
   "execution_count": null,
   "metadata": {},
   "outputs": [],
   "source": [
    "import dicom\n",
    "import numpy as np\n",
    "import os\n",
    "os.environ['CUDA_VISIBLE_DEVICES'] = '1'\n",
    "from PIL import Image\n",
    "import shutil\n",
    "import scipy.misc\n",
    "import random\n",
    "from matplotlib import pyplot as plt\n",
    "import SimpleITK as sitk\n",
    "import json\n",
    "from torchvision import transforms as T\n",
    "from torchvision.transforms import functional as F\n",
    "\n",
    "def rm_mkdir(dir_path):\n",
    "    if os.path.exists(dir_path):\n",
    "        shutil.rmtree(dir_path)\n",
    "        print('Remove path - %s'%dir_path)\n",
    "    os.makedirs(dir_path)\n",
    "    print('Create path - %s'%dir_path)"
   ]
  },
  {
   "cell_type": "markdown",
   "metadata": {},
   "source": [
    "### Examples demo"
   ]
  },
  {
   "cell_type": "code",
   "execution_count": null,
   "metadata": {},
   "outputs": [],
   "source": [
    "dcm = dicom.read_file('./ISIC/dataset/cancer/B题-全部数据/数据集1/1001/arterial phase/10001.dcm')\n",
    "dcm"
   ]
  },
  {
   "cell_type": "code",
   "execution_count": null,
   "metadata": {},
   "outputs": [],
   "source": [
    "image = sitk.ReadImage('./ISIC/dataset/cancer/B题-全部数据/数据集1/1001/arterial phase/10001.dcm')\n",
    "image_array = sitk.GetArrayFromImage(image)\n",
    "plt.imshow(convertImage(image_array[0,:,:]), 'gray')"
   ]
  },
  {
   "cell_type": "code",
   "execution_count": null,
   "metadata": {},
   "outputs": [],
   "source": []
  },
  {
   "cell_type": "code",
   "execution_count": null,
   "metadata": {},
   "outputs": [],
   "source": [
    "# import SimpleITK as sitk\n",
    "# import numpy as np\n",
    "# image = sitk.ReadImage('./ISIC/dataset/cancer/B题-全部数据/数据集1/1001/arterial phase/10009.dcm')\n",
    "# image_array = sitk.GetArrayFromImage(image)\n",
    "# dcm.image = image_array[0,:,:]\n",
    "# convertImg = convertImage(dcm.image)\n",
    "# plt.imshow(convertImg, 'gray')\n",
    "# imgtmp = np.transpose(image_array, axes=(1,2,0))\n",
    "# imgtmp.shape\n",
    "# plt.imshow(imgtmp[200:475,125:375,0], 'gray')\n",
    "# plt.imshow(image_array[0,:,:], 'gray')"
   ]
  },
  {
   "cell_type": "code",
   "execution_count": null,
   "metadata": {},
   "outputs": [],
   "source": [
    "tmp_raw_mask = Image.open('./ISIC/dataset/cancer/B题-全部数据/数据集1/1100/venous phase/20011_mask.png')\n",
    "#tmp_raw_mask = np.array(tmp_raw_mask)\n",
    "plt.imshow(tmp_raw_mask, 'gray')\n",
    "plt.savefig('原始掩模.png')"
   ]
  },
  {
   "cell_type": "code",
   "execution_count": null,
   "metadata": {},
   "outputs": [],
   "source": [
    "tmp_raw_mask.save('sss.png')"
   ]
  },
  {
   "cell_type": "code",
   "execution_count": null,
   "metadata": {},
   "outputs": [],
   "source": [
    "#tmp_cut_mask = convertImage(tmp_raw_mask*255)\n",
    "plt.imshow(tmp_raw_mask[Loc[0]:Loc[1], Loc[2]:Loc[3]], 'gray')\n",
    "plt.savefig('裁剪掩模.png')"
   ]
  },
  {
   "cell_type": "code",
   "execution_count": null,
   "metadata": {},
   "outputs": [],
   "source": [
    "#dcm = dicom.read_file('./ISIC/dataset/cancer/B题-全部数据/数据集1/1100/venous phase/20029.dcm')\n",
    "image = sitk.ReadImage('./ISIC/dataset/cancer/B题-全部数据/数据集1/1100/venous phase/20011.dcm')\n",
    "image_array = sitk.GetArrayFromImage(image)\n",
    "plt.imshow((image_array[0, :, :]), 'gray')\n",
    "plt.savefig('原始图像.png')"
   ]
  },
  {
   "cell_type": "code",
   "execution_count": null,
   "metadata": {},
   "outputs": [],
   "source": [
    "plt.imshow(convertImage(image_array[0, :, :]), 'gray')\n",
    "plt.savefig('图像增强.png')\n",
    "a = convertImage(image_array[0, :, :])"
   ]
  },
  {
   "cell_type": "code",
   "execution_count": null,
   "metadata": {},
   "outputs": [],
   "source": [
    "plt.imshow((a[Loc[0]:Loc[1], Loc[2]:Loc[3]]), 'gray')\n",
    "plt.savefig('图像裁剪.png')\n"
   ]
  },
  {
   "cell_type": "code",
   "execution_count": null,
   "metadata": {},
   "outputs": [],
   "source": [
    "tmp_PIL = Image.fromarray(np.uint8(a[Loc[0]:Loc[1], Loc[2]:Loc[3]]*255.0))"
   ]
  },
  {
   "cell_type": "code",
   "execution_count": null,
   "metadata": {},
   "outputs": [],
   "source": [
    "def show_augmentation(raw):\n",
    "        \n",
    "    image = raw \n",
    "    aspect_ratio = image.size[1]/image.size[0]\n",
    "    hw = (image.size[0],image.size[1])\n",
    "    print('圖像尺寸 : ', image.size[0],image.size[1])\n",
    "    Transform = []\n",
    "    ### 縮放到 300*X 或者 X*300 或者 X*320 或者 320*X\n",
    "    ResizeRange = random.randint(300,320)\n",
    "    Transform.append(T.Resize((int(ResizeRange*aspect_ratio),ResizeRange)))\n",
    "    p_transform = random.random()\n",
    "    \n",
    "    ### 旋轉 0,90,180,270°\n",
    "#     RotationDegrees = [0,90,180,270]\n",
    "#     RotationDegree = random.randint(0,3)\n",
    "#     RotationDegree = RotationDegrees[RotationDegree]\n",
    "#     print('旋轉 : ', RotationDegree)\n",
    "#     Transform.append(T.RandomRotation((RotationDegree,RotationDegree)))\n",
    "    \n",
    "   \n",
    "    \n",
    "    ### 方向調整 -10°~10°\n",
    "    RotationRange = random.randint(-10,10)\n",
    "    print('方向調整 : ', RotationRange)\n",
    "    Transform.append(T.RandomRotation((RotationRange,RotationRange)))\n",
    "    \n",
    "    sTransform = T.Compose(Transform)\n",
    "    #tmp = sTransform(image) \n",
    "    \n",
    "    ### 按照中心裁剪 \n",
    "    CropRange = random.randint(250,270)\n",
    "    Transform.append(T.CenterCrop((int(CropRange*aspect_ratio),CropRange)))\n",
    "    print('按照中心裁剪 : ', CropRange*aspect_ratio,CropRange)\n",
    "    \n",
    "    \n",
    "    Transform = T.Compose(Transform)\n",
    "\n",
    "    image = Transform(image)\n",
    "    #tmp = image\n",
    "        \n",
    "    ### 平移裁剪\n",
    "    ShiftRange_left = random.randint(0,20)\n",
    "    ShiftRange_upper = random.randint(0,20)\n",
    "    ShiftRange_right = image.size[0] - random.randint(0,20)\n",
    "    ShiftRange_lower = image.size[1] - random.randint(0,20)\n",
    "    image = image.crop(box=(ShiftRange_left,ShiftRange_upper,ShiftRange_right,ShiftRange_lower))\n",
    "    print('平移變換(左上右下)', ShiftRange_left, ShiftRange_upper, ShiftRange_right, ShiftRange_lower)\n",
    "    \n",
    "    ### 水平翻轉\n",
    "    if random.random() < 0.5:\n",
    "        print('水平翻轉')\n",
    "        image = F.hflip(image)\n",
    "    tmp = image\n",
    "    ### 垂直翻轉\n",
    "#     if random.random() < 0.5:\n",
    "#         print('垂直翻轉')\n",
    "#         image = F.vflip(image) \n",
    "    Transform = []\n",
    "    \n",
    "    Transform = T.ColorJitter(brightness=0.2,contrast=0.2,hue=0.02)\n",
    "    \n",
    "    image = Transform(image)\n",
    "    tmp = image\n",
    "    ### 縮放到 256*X 或 X*256\n",
    "    Transform = []\n",
    "    Transform.append(T.Resize((int(256*aspect_ratio)-int(256*aspect_ratio)%16,256)))\n",
    "    \n",
    "    Transform = T.Compose(Transform)\n",
    "    transImg = Transform(image)\n",
    "    \n",
    "    return transImg, tmp \n",
    "#img = Image.open('./B题示例数据/CT影像/1002/arterial phase/10076_contour.png')\n",
    "TransImg, tmpImg = show_augmentation(tmp_PIL)\n",
    "tmpImg\n",
    "#tmpImg.save\n",
    "#TransImg"
   ]
  },
  {
   "cell_type": "code",
   "execution_count": null,
   "metadata": {},
   "outputs": [],
   "source": [
    "tmpImg.save('對比度調整.png')"
   ]
  },
  {
   "cell_type": "markdown",
   "metadata": {},
   "source": [
    "### 提取並裁剪數據 \n",
    " 考慮到直腸癌發病區域較爲固定， 而其餘區域可以認爲是‘背景’， 故我們對輪廓圖片和mask圖片進行切割 切割範圍爲（170:490， 100:420）"
   ]
  },
  {
   "cell_type": "code",
   "execution_count": null,
   "metadata": {},
   "outputs": [],
   "source": [
    "### 數據路徑及分配路徑\n",
    "#Paths = './B题示例数据/CT影像/'\n",
    "Paths = './ISIC/dataset/cancer/B题-全部数据/数据集1/'\n",
    "list_Paths = os.listdir(Paths)\n",
    "Dataset = './ISIC/dataset/cancer/Input_all/'\n",
    "Dataset_mask = './ISIC/dataset/cancer/Mask_all/'"
   ]
  },
  {
   "cell_type": "code",
   "execution_count": null,
   "metadata": {},
   "outputs": [],
   "source": [
    "### 裁剪區域\n",
    "#Loc = (210, 466, 125, 381)\n",
    "Loc = (170, 490, 100, 420)\n",
    "# 230-430 189-321\n",
    "def data_augmentation(raw_path, raw_gt_path):\n",
    "    image = Image.open(raw_path)\n",
    "    GT = Image.open(raw_gt_path).convert('L')\n",
    "    \n",
    "    aspect_ratio = image.size[1]/image.size[0]\n",
    "    hw = (image.size[0],image.size[1])\n",
    "    Transform = []\n",
    "\n",
    "    ResizeRange = random.randint(300,320)\n",
    "    Transform.append(T.Resize((int(ResizeRange*aspect_ratio),ResizeRange)))\n",
    "    p_transform = random.random()\n",
    "\n",
    "    if p_transform <= 0.6:\n",
    "        \n",
    "        RotationRange = random.randint(-15,15)\n",
    "        Transform.append(T.RandomRotation((RotationRange,RotationRange)))\n",
    "        CropRange = random.randint(250,270)\n",
    "        Transform.append(T.CenterCrop((int(CropRange*aspect_ratio),CropRange)))\n",
    "        Transform = T.Compose(Transform)\n",
    "\n",
    "        image = Transform(image)\n",
    "        GT = Transform(GT)\n",
    "\n",
    "        ShiftRange_left = random.randint(0,20)\n",
    "        ShiftRange_upper = random.randint(0,20)\n",
    "        ShiftRange_right = image.size[0] - random.randint(0,20)\n",
    "        ShiftRange_lower = image.size[1] - random.randint(0,20)\n",
    "        image = image.crop(box=(ShiftRange_left,ShiftRange_upper,ShiftRange_right,ShiftRange_lower))\n",
    "        GT = GT.crop(box=(ShiftRange_left,ShiftRange_upper,ShiftRange_right,ShiftRange_lower))\n",
    "\n",
    "        if random.random() < 0.5:\n",
    "            image = F.hflip(image)\n",
    "            GT = F.hflip(GT)\n",
    "\n",
    "        Transform =[]\n",
    "\n",
    "\n",
    "    Transform.append(T.Resize((hw[1], hw[0])))\n",
    "    #Transform.append(T.ToTensor())\n",
    "    Transform = T.Compose(Transform)\n",
    "\n",
    "    image = Transform(image)\n",
    "    GT = Transform(GT)\n",
    "\n",
    "#     Norm_ = T.Normalize((0.5, 0.5, 0.5), (0.5, 0.5, 0.5))\n",
    "#     image = Norm_(image)\n",
    "\n",
    "    return image, GT, hw, p_transform\n",
    "\n",
    "def convertImage(raw):\n",
    "    img = np.array(raw)\n",
    "    img[img>255] = 255\n",
    "    mean = np.mean(img)\n",
    "    min_img = np.min(img)\n",
    "    if min_img<-1500:\n",
    "        min_img = min_img*(1.0/2.0)\n",
    "    print(mean, min_img)\n",
    "    \n",
    "    img = img - mean\n",
    "    img = img*1.0 + mean*(mean/min_img)*1.1#修对比度和亮度\n",
    "    img = img/np.max(img)\n",
    "    #img[img>255] = 255\n",
    "    img[img<0] = 0\n",
    "    return img\n",
    "\n",
    "def removeImage(dataset, dataset_mask, loc):\n",
    "    tictoc = 0\n",
    "    rm_mkdir(dataset)\n",
    "    rm_mkdir(dataset_mask)\n",
    "    for i in list_Paths:\n",
    "        list_PathClasses = os.listdir(Paths+i+'/')\n",
    "        for j in list_PathClasses:\n",
    "            list_Dcmfiles = os.listdir(Paths+i+'/'+j+'/')\n",
    "            negative = 0\n",
    "            for m in list_Dcmfiles:\n",
    "                tictoc+=1\n",
    "                \n",
    "                if '_mask' in m:\n",
    "                    tmp_img = Image.open(Paths+i+'/'+j+'/'+m)\n",
    "                    tmp_img = np.array(tmp_img)\n",
    "                    \n",
    "                    if np.max(tmp_img)>0:\n",
    "                        \n",
    "                        image = sitk.ReadImage(Paths+i+'/'+j+'/'+m[:-9]+'.dcm')\n",
    "                        image_array = sitk.GetArrayFromImage(image)\n",
    "                        dcm_image = image_array[0,:,:]\n",
    "                        convertImg = convertImage(dcm_image)\n",
    "                        imgRevert = np.repeat(np.expand_dims(convertImg[loc[0]:loc[1],loc[2]:loc[3]],\n",
    "                                                             axis=2), 3, axis=2)\n",
    "                        scipy.misc.imsave(dataset+i+'_'+j[0]+'_'+m[:-9]+'.png', imgRevert)\n",
    "                        \n",
    "                        tmp_maskar = tmp_img[loc[0]:loc[1],loc[2]:loc[3]]\n",
    "                        tmp_maskar = np.repeat(np.expand_dims(tmp_maskar,\n",
    "                                                             axis=2), 3, axis=2)\n",
    "                        scipy.misc.imsave(dataset_mask+i+'_'+j[0]+'_'+m, tmp_maskar)\n",
    "                    else:\n",
    "                        ### 添加負例樣本\n",
    "                        if random.random() > 0.0:\n",
    "                            negative +=1\n",
    "                    \n",
    "                            image = sitk.ReadImage(Paths+i+'/'+j+'/'+m[:-9]+'.dcm')\n",
    "                            image_array = sitk.GetArrayFromImage(image)\n",
    "                            dcm_image = image_array[0,:,:]\n",
    "                            convertImg = convertImage(dcm_image)\n",
    "                            imgRevert = np.repeat(np.expand_dims(convertImg[loc[0]:loc[1],loc[2]:loc[3]],\n",
    "                                                                 axis=2), 3, axis=2)\n",
    "                            scipy.misc.imsave(dataset+i+'_'+j[0]+'_'+m[:-9]+'.png', imgRevert)\n",
    "\n",
    "\n",
    "                            tmp_maskar = tmp_img[loc[0]:loc[1],loc[2]:loc[3]]\n",
    "                            tmp_maskar = np.repeat(np.expand_dims(tmp_maskar,\n",
    "                                                                 axis=2), 3, axis=2)\n",
    "                            scipy.misc.imsave(dataset_mask+i+'_'+j[0]+'_'+m, tmp_maskar)\n",
    "            \n",
    "            print('patient is {}, negative samples are {}'.format(j, negative))\n"
   ]
  },
  {
   "cell_type": "code",
   "execution_count": null,
   "metadata": {
    "scrolled": true
   },
   "outputs": [],
   "source": [
    "removeImage(Dataset, Dataset_mask, Loc)"
   ]
  },
  {
   "cell_type": "markdown",
   "metadata": {},
   "source": [
    "#### Generate the annotations.json for mask_rcnn"
   ]
  },
  {
   "cell_type": "code",
   "execution_count": null,
   "metadata": {},
   "outputs": [],
   "source": [
    "Paths_mask_val = './ISIC/dataset/validcancer_true_GT/'\n",
    "#Paths_mask_val = './ISIC/dataset/validcancer_GT/'\n",
    "Paths_mask_test = './ISIC/dataset/testcancer_true_GT/'\n",
    "#Paths_mask_test = './ISIC/dataset/testcancer_GT/'\n",
    "Paths_mask_train = './ISIC/dataset/traincancer_true_GT/'\n",
    "#Paths_mask_train = './ISIC/dataset/traincancer_GT/'"
   ]
  },
  {
   "cell_type": "code",
   "execution_count": null,
   "metadata": {},
   "outputs": [],
   "source": [
    "def mask2json(paths):\n",
    "    tmp_json = {}\n",
    "    MaskImgs_list = os.listdir(paths)\n",
    "    for i in MaskImgs_list:\n",
    "        tmp_img = Image.open(paths+i).convert('L')\n",
    "        tmp_img = np.array(tmp_img)\n",
    "        query = np.where(tmp_img!=0)\n",
    "\n",
    "        tmp_json[i+str(random.randint(1,10000))] = {'filename' : i[:-9]+'.png',\n",
    "                                                    'regions' : {'0' : {'shape_attributes' :\n",
    "                                                                        {'name' : 'ploygon', \n",
    "                                                                         'all_points_x' : query[1].tolist(),\n",
    "                                                                         'all_points_y' : query[0].tolist()}}}}\n",
    "    return tmp_json\n",
    "\n",
    "def mask2json_dataaugmentation(paths, maskrcnn_path):\n",
    "    tmp_json = {}\n",
    "    MaskImgs_list = os.listdir(paths)\n",
    "    for i in MaskImgs_list:\n",
    "        tmp_img = Image.open(paths+i).convert('L')\n",
    "        tmp_img = np.array(tmp_img)\n",
    "        query = np.where(tmp_img!=0)\n",
    "\n",
    "        tmp_json[i+str(random.randint(1,100))] = {'filename' : i[:-9]+'.png',\n",
    "                                                    'regions' : {'0' : {'shape_attributes' :\n",
    "                                                                        {'name' : 'ploygon', \n",
    "                                                                         'all_points_x' : query[1].tolist(),\n",
    "                                                                         'all_points_y' : query[0].tolist()}}}}\n",
    "        \n",
    "        tmp_au_raw, tmp_au_raw_gt, _, tmp_prob = data_augmentation(paths[:-4]+'/'+i[:-9]+'.png', paths+i)\n",
    "        if tmp_prob<=0.7:\n",
    "            random_num = 'au'\n",
    "            tmp_au_raw.save(maskrcnn_path+i[:-9]+'_'+random_num+'.png')\n",
    "            tmp_au_raw_gt = np.array(tmp_au_raw_gt)\n",
    "            query = np.where(tmp_au_raw_gt!=0)\n",
    "            tmp_json[i+random_num] = {'filename' : i[:-9]+'_'+random_num+'.png',\n",
    "                                                    'regions' : {'0' : {'shape_attributes' :\n",
    "                                                                        {'name' : 'ploygon', \n",
    "                                                                         'all_points_x' : query[1].tolist(),\n",
    "                                                                         'all_points_y' : query[0].tolist()}}}}\n",
    "            #tmp_au_raw\n",
    "    return tmp_json\n",
    "\n",
    "# val\n",
    "json_val = mask2json(Paths_mask_val)\n",
    "rm_mkdir('./ISIC/Mask_RCNN-master/dataset/val/')\n",
    "json.dump(json_val, open('./ISIC/Mask_RCNN-master/dataset/val/via_region_data.json', 'w'))\n",
    "#! cp -r ./ISIC/dataset/validcancer/* ./ISIC/Mask_RCNN-master/dataset/val/\n",
    "! cp -r ./ISIC/dataset/validcancer_true/* ./ISIC/Mask_RCNN-master/dataset/val/\n",
    "# test\n",
    "json_test = mask2json(Paths_mask_test)\n",
    "rm_mkdir('./ISIC/Mask_RCNN-master/dataset/test/')\n",
    "json.dump(json_test, open('./ISIC/Mask_RCNN-master/dataset/test/via_region_data.json', 'w'))\n",
    "! cp -r ./ISIC/dataset/testcancer/* ./ISIC/Mask_RCNN-master/dataset/test/\n",
    "\n",
    "# train\n",
    "mask_rcnn_trainpath = './ISIC/Mask_RCNN-master/dataset/train/'\n",
    "rm_mkdir(mask_rcnn_trainpath)\n",
    "json_train = mask2json_dataaugmentation(Paths_mask_train, mask_rcnn_trainpath)\n",
    "json.dump(json_train, open('./ISIC/Mask_RCNN-master/dataset/train/via_region_data.json', 'w'))\n",
    "! cp -r ./ISIC/dataset/traincancer/* ./ISIC/Mask_RCNN-master/dataset/train/\n"
   ]
  },
  {
   "cell_type": "code",
   "execution_count": null,
   "metadata": {},
   "outputs": [],
   "source": [
    "! cp -r ./ISIC/dataset/validcancer_true/* ./ISIC/Mask_RCNN-master/dataset/val/\n",
    "! cp -r ./ISIC/dataset/testcancer_true/* ./ISIC/Mask_RCNN-master/dataset/test/\n",
    "! cp -r ./ISIC/dataset/traincancer_true/* ./ISIC/Mask_RCNN-master/dataset/train/"
   ]
  },
  {
   "cell_type": "code",
   "execution_count": null,
   "metadata": {},
   "outputs": [],
   "source": []
  },
  {
   "cell_type": "code",
   "execution_count": null,
   "metadata": {},
   "outputs": [],
   "source": []
  }
 ],
 "metadata": {
  "kernelspec": {
   "display_name": "Python 3",
   "language": "python",
   "name": "python3"
  },
  "language_info": {
   "codemirror_mode": {
    "name": "ipython",
    "version": 3
   },
   "file_extension": ".py",
   "mimetype": "text/x-python",
   "name": "python",
   "nbconvert_exporter": "python",
   "pygments_lexer": "ipython3",
   "version": "3.6.8"
  }
 },
 "nbformat": 4,
 "nbformat_minor": 2
}
