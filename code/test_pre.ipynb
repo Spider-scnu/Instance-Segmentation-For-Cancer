{
 "cells": [
  {
   "cell_type": "code",
   "execution_count": null,
   "metadata": {},
   "outputs": [],
   "source": [
    "import dicom\n",
    "import numpy as np\n",
    "import os\n",
    "from PIL import Image\n",
    "import shutil\n",
    "import scipy.misc\n",
    "import random\n",
    "from matplotlib import pyplot as plt\n",
    "import SimpleITK as sitk\n",
    "import json\n",
    "from torchvision import transforms as T\n",
    "from torchvision.transforms import functional as F\n",
    "import pandas as pd\n",
    "import glob\n",
    "import csv\n",
    "os.environ['CUDA_VISIBLE_DEVICES'] = '2'\n",
    "\n",
    "def rm_mkdir(dir_path):\n",
    "    if os.path.exists(dir_path):\n",
    "        shutil.rmtree(dir_path)\n",
    "        print('Remove path - %s'%dir_path)\n",
    "    os.makedirs(dir_path)\n",
    "    print('Create path - %s'%dir_path)"
   ]
  },
  {
   "cell_type": "code",
   "execution_count": null,
   "metadata": {},
   "outputs": [],
   "source": [
    "### 數據路徑及分配路徑\n",
    "#Paths = './B题示例数据/CT影像/'\n",
    "Paths = '/home/kb/Python_test/Taidi/Image_Segmentation-master/ISIC/dataset/cancer/数据集2/'\n",
    "list_Paths = os.listdir(Paths)\n",
    "Dataset = './ISIC/dataset/cancer/Input_pre/'\n",
    "Dataset_mask = './ISIC/dataset/cancer/Mask_pre/'"
   ]
  },
  {
   "cell_type": "code",
   "execution_count": null,
   "metadata": {},
   "outputs": [],
   "source": [
    "### 裁剪區域\n",
    "#Loc = (210, 466, 125, 381)\n",
    "Loc = (170, 490, 100, 420)\n",
    "# 230-430 189-321\n",
    "\n",
    "def convertImage(raw):\n",
    "    img = np.array(raw)\n",
    "    img[img>255] = 255\n",
    "    mean = np.mean(img)\n",
    "    min_img = np.min(img)\n",
    "    if min_img<-1500:\n",
    "        min_img = min_img*(1.0/2.0)\n",
    "    \n",
    "    img = img - mean\n",
    "    img = img*1.0 + mean*(mean/min_img)*1.1#修对比度和亮度\n",
    "    img = img/np.max(img)\n",
    "    img[img<0] = 0\n",
    "    return img\n",
    "\n",
    "def removeImage(dataset, dataset_mask, loc):\n",
    "    tictoc = 0\n",
    "    rm_mkdir(dataset)\n",
    "    rm_mkdir(dataset_mask)\n",
    "    for i in list_Paths:\n",
    "        list_PathClasses = os.listdir(Paths+i+'/')\n",
    "        for j in list_PathClasses:\n",
    "            list_Dcmfiles = os.listdir(Paths+i+'/'+j+'/')\n",
    "            negative = 0\n",
    "            for m in list_Dcmfiles:\n",
    "                tictoc+=1\n",
    "                \n",
    "                if '.dcm' in m:\n",
    "                    #print(m)\n",
    "                    image = sitk.ReadImage(Paths+i+'/'+j+'/'+m)\n",
    "                    image_array = sitk.GetArrayFromImage(image)\n",
    "                    dcm_image = image_array[0,:,:]\n",
    "                    convertImg = convertImage(dcm_image)\n",
    "                    imgRevert = np.repeat(np.expand_dims(convertImg[loc[0]:loc[1],loc[2]:loc[3]],\n",
    "                                                         axis=2), 3, axis=2)\n",
    "                    scipy.misc.imsave(dataset+i+'_'+j[0]+'_'+m[:-4]+'.png', imgRevert)\n",
    "                    \n",
    "                    tmp_img = np.zeros_like(dcm_image)\n",
    "                    tmp_maskar = tmp_img[loc[0]:loc[1],loc[2]:loc[3]]\n",
    "                    tmp_maskar = np.repeat(np.expand_dims(tmp_maskar,\n",
    "                                                         axis=2), 3, axis=2)\n",
    "\n",
    "                    scipy.misc.imsave(dataset_mask+i+'_'+j[0]+'_'+m[:-4]+'_mask.png', tmp_maskar)\n",
    "                if tictoc%1000==0:\n",
    "                    print('patient is {}, negative samples are {}'.format(i, negative))\n"
   ]
  },
  {
   "cell_type": "code",
   "execution_count": null,
   "metadata": {
    "scrolled": true
   },
   "outputs": [],
   "source": [
    "removeImage(Dataset, Dataset_mask, Loc)"
   ]
  },
  {
   "cell_type": "code",
   "execution_count": null,
   "metadata": {},
   "outputs": [],
   "source": []
  },
  {
   "cell_type": "markdown",
   "metadata": {},
   "source": [
    "cd ISIC"
   ]
  },
  {
   "cell_type": "code",
   "execution_count": null,
   "metadata": {},
   "outputs": [],
   "source": [
    "python ../dataset_cancer.py --train_ratio=0.0\\\n",
    "                                --valid_ratio=0.0\\\n",
    "                                --test_ratio=1.0\\\n",
    "                                --origin_data_path='../ISIC/dataset/cancer/Input_pre'\\\n",
    "                                --origin_GT_path='../ISIC/dataset/cancer/Mask_pre'\\\n",
    "                                --train_path='./dataset/traincancer_pre/'\\\n",
    "                                --train_GT_path='./dataset/traincancer_pre_GT/'\\\n",
    "                                --valid_path='./dataset/validcancer_pre/'\\\n",
    "                                --valid_GT_path='./dataset/validcancer_pre_GT/'\\\n",
    "                                --test_path='./dataset/testcancer_pre/'\\\n",
    "                                --test_GT_path='./dataset/testcancer_pre_GT/'"
   ]
  },
  {
   "cell_type": "code",
   "execution_count": null,
   "metadata": {},
   "outputs": [],
   "source": [
    "python ../main_cancer.py --mode='pre' --model_type='R2AttU_Net'\\\n",
    "                            --testmodel_path='./models/R2AttU_Net-100-0.0000-78-0.4701_re_pretrained.pkl'\\\n",
    "                            --Img_savepath='./Prediction/forwardoutput/'\\\n",
    "                            --Pre_savepath='./Prediction/forwardoutput_GT/'\\\n",
    "                            --Mask_savepath='./Prediction/Prediction/'\\\n",
    "                            --test_path='./dataset/testcancer_pre/' --threshold=90"
   ]
  },
  {
   "cell_type": "code",
   "execution_count": null,
   "metadata": {},
   "outputs": [],
   "source": []
  },
  {
   "cell_type": "markdown",
   "metadata": {},
   "source": [
    "#### Convert prediction to .json for Mask R-cnn"
   ]
  },
  {
   "cell_type": "code",
   "execution_count": null,
   "metadata": {},
   "outputs": [],
   "source": [
    "Paths_mask_pre = './ISIC/Prediction/forwardoutput_GT/'\n",
    "print('file length: ',len(os.listdir(Paths_mask_pre)))"
   ]
  },
  {
   "cell_type": "code",
   "execution_count": null,
   "metadata": {},
   "outputs": [],
   "source": [
    "def mask2json(paths):\n",
    "    tmp_json = {}\n",
    "    MaskImgs_list = os.listdir(paths)\n",
    "    for i in MaskImgs_list:\n",
    "        #print(i[:-4], i)\n",
    "        tmp_img = Image.open(paths+i).convert('L')\n",
    "        tmp_img = np.array(tmp_img)\n",
    "        query = np.where(tmp_img!=0)\n",
    "\n",
    "        tmp_json[i+str(random.randint(1,10000))] = {'filename' : i[:-4]+'.png',\n",
    "                                                    'regions' : {'0' : {'shape_attributes' :\n",
    "                                                                        {'name' : 'ploygon', \n",
    "                                                                         'all_points_x' : query[1].tolist(),\n",
    "                                                                         'all_points_y' : query[0].tolist()}}}}\n",
    "    return tmp_json"
   ]
  },
  {
   "cell_type": "code",
   "execution_count": null,
   "metadata": {},
   "outputs": [],
   "source": [
    "# val\n",
    "json_val = mask2json(Paths_mask_pre)\n",
    "rm_mkdir('./ISIC/Mask_RCNN-master/dataset/Predict/val/')\n",
    "json.dump(json_val, open('./ISIC/Mask_RCNN-master/dataset/Predict/val/via_region_data.json', 'w'))\n",
    "! cp -r ./ISIC/Prediction/forwardoutput/* ./ISIC/Mask_RCNN-master/dataset/Predict/val/"
   ]
  },
  {
   "cell_type": "markdown",
   "metadata": {},
   "source": [
    "#### Input Mask RCNN to prediction"
   ]
  },
  {
   "cell_type": "code",
   "execution_count": null,
   "metadata": {},
   "outputs": [],
   "source": [
    "import os\n",
    "\n",
    "import sys\n",
    "import random\n",
    "import math\n",
    "import re\n",
    "import time\n",
    "import numpy as np\n",
    "import tensorflow as tf\n",
    "import matplotlib\n",
    "import matplotlib.pyplot as plt\n",
    "import matplotlib.patches as patches\n",
    "\n",
    "# Root directory of the project\n",
    "ROOT_DIR = os.path.abspath(\"./ISIC/Mask_RCNN-master/\")\n",
    "\n",
    "# Import Mask RCNN\n",
    "sys.path.append(ROOT_DIR)  # To find local version of the library\n",
    "from mrcnn import utils\n",
    "from mrcnn import visualize\n",
    "from mrcnn.visualize import display_images\n",
    "import mrcnn.model as modellib\n",
    "from mrcnn.model import log\n",
    "\n",
    "from samples.balloon import balloon\n",
    "\n",
    "#os.environ['CUDA_VISIBLE_DEVICES'] = '7'\n",
    "\n",
    "%matplotlib inline \n",
    "\n",
    "MODEL_DIR = os.path.join(ROOT_DIR, \"logs\")\n"
   ]
  },
  {
   "cell_type": "code",
   "execution_count": null,
   "metadata": {},
   "outputs": [],
   "source": [
    "config = balloon.BalloonConfig()\n",
    "BALLOON_DIR = os.path.join(ROOT_DIR, \"dataset/Predict\")"
   ]
  },
  {
   "cell_type": "code",
   "execution_count": null,
   "metadata": {
    "scrolled": true
   },
   "outputs": [],
   "source": [
    "# Override the training configurations with a few\n",
    "# changes for inferencing.\n",
    "class InferenceConfig(config.__class__):\n",
    "    # Run detection on one image at a time\n",
    "    GPU_COUNT = 1\n",
    "    IMAGES_PER_GPU = 1\n",
    "\n",
    "config = InferenceConfig()\n",
    "#config.display()"
   ]
  },
  {
   "cell_type": "code",
   "execution_count": null,
   "metadata": {},
   "outputs": [],
   "source": [
    "TEST_MODE = \"inference\""
   ]
  },
  {
   "cell_type": "code",
   "execution_count": null,
   "metadata": {},
   "outputs": [],
   "source": [
    "def get_ax(rows=1, cols=1, size=16):\n",
    "    \"\"\"Return a Matplotlib Axes array to be used in\n",
    "    all visualizations in the notebook. Provide a\n",
    "    central point to control graph sizes.\n",
    "    \n",
    "    Adjust the size attribute to control how big to render images\n",
    "    \"\"\"\n",
    "    _, ax = plt.subplots(rows, cols, figsize=(size*cols, size*rows))\n",
    "    return ax"
   ]
  },
  {
   "cell_type": "code",
   "execution_count": null,
   "metadata": {},
   "outputs": [],
   "source": [
    "# Load validation dataset\n",
    "dataset = balloon.BalloonDataset()\n",
    "dataset.load_balloon(BALLOON_DIR, \"val\")\n",
    "\n",
    "# Must call before using the dataset\n",
    "dataset.prepare()\n",
    "\n",
    "print(\"Images: {}\\nClasses: {}\".format(len(dataset.image_ids), dataset.class_names))"
   ]
  },
  {
   "cell_type": "code",
   "execution_count": null,
   "metadata": {},
   "outputs": [],
   "source": [
    "# Create model in inference mode\n",
    "#with tf.device(DEVICE):\n",
    "model = modellib.MaskRCNN(mode=\"inference\", model_dir=MODEL_DIR,\n",
    "                              config=config)"
   ]
  },
  {
   "cell_type": "markdown",
   "metadata": {},
   "source": [
    "0149.h5 -- 1401\n",
    "0442.h5 -- 1445.2681875533638 \n",
    "0262.h5 -- 1470"
   ]
  },
  {
   "cell_type": "code",
   "execution_count": null,
   "metadata": {},
   "outputs": [],
   "source": [
    "# Set path to balloon weights file\n",
    "\n",
    "# Download file from the Releases page and set its path\n",
    "# https://github.com/matterport/Mask_RCNN/releases\n",
    "weights_path = \"/home/kb/Python_test/Taidi/Image_Segmentation-master/ISIC/Mask_RCNN-master/\"+\\\n",
    "                \"logs/balloon20190423T1408/mask_rcnn_balloon_0262.h5\"\n",
    "\n",
    "# Or, load the last model you trained\n",
    "#weights_path = model.find_last()\n",
    "\n",
    "# Load weights\n",
    "print(\"Loading weights \", weights_path)\n",
    "model.load_weights(weights_path, by_name=True)"
   ]
  },
  {
   "cell_type": "code",
   "execution_count": null,
   "metadata": {},
   "outputs": [],
   "source": [
    "rm_mkdir('/home/kb/Python_test/Taidi/Image_Segmentation-master/ISIC/Prediction/Prediction_mask_rcnn')\n",
    "\n",
    "image_id = random.choice(dataset.image_ids)\n",
    "DC = 0\n",
    "length = 0\n",
    "tp = 0\n",
    "fp = 0\n",
    "tn = 0\n",
    "fn = 0 \n",
    "for image_id in dataset.image_ids:\n",
    "    image, image_meta, gt_class_id, gt_bbox, gt_mask =\\\n",
    "        modellib.load_image_gt(dataset, config, image_id, use_mini_mask=False)\n",
    "\n",
    "# Run object detection\n",
    "    results = model.detect([image], verbose=1)\n",
    "    r = results[0]\n",
    "\n",
    "    print(image_id)\n",
    "    r_shape = r['masks'].shape\n",
    "    if r_shape[-1]==0:\n",
    "        SR = np.zeros(shape=(r_shape[0],r_shape[1]), dtype=bool)\n",
    "    else:\n",
    "        SR = r['masks'][:,:,0]\n",
    "    loc = (170, 490, 100, 420)\n",
    "    #tmp_gt_masks = np.zeros(shape=(520,520))\n",
    "    tmp_SR = np.zeros(shape=(512,512))\n",
    "    #tmp_gt_masks[loc[0]:loc[1],loc[2]:loc[3]] = gt_masks\n",
    "    tmp_SR[loc[0]:loc[1],loc[2]:loc[3]] = SR\n",
    "    scipy.misc.imsave('/home/kb/Python_test/Taidi/Image_Segmentation-master/ISIC/Prediction/Prediction_mask_rcnn/'+\\\n",
    "                      dataset.image_reference(image_id).split('/')[-1][:-4]+'_mask.png', tmp_SR)\n",
    "\n",
    "    #print('DC : {}'.format(get_DC(SR, gt_masks)))\n",
    "    print('-------------------------------------------------------------------')\n",
    "    length+=1\n",
    "#DC_average = DC/length"
   ]
  },
  {
   "cell_type": "code",
   "execution_count": null,
   "metadata": {},
   "outputs": [],
   "source": [
    "zerosmask_path = '/home/kb/Python_test/Taidi/Image_Segmentation-master/ISIC/Prediction/Prediction/'\n",
    "zerosmask_lsit = os.listdir(zerosmask_path)\n",
    "maskrcnn_path = '/home/kb/Python_test/Taidi/Image_Segmentation-master/ISIC/Prediction/Prediction_mask_rcnn/'\n",
    "maskrcnn_list = os.listdir(maskrcnn_path)"
   ]
  },
  {
   "cell_type": "code",
   "execution_count": null,
   "metadata": {},
   "outputs": [],
   "source": [
    "B_savepath = '/home/kb/Python_test/Taidi/Image_Segmentation-master/ISIC/Prediction/B_question/'\n",
    "rm_mkdir(B_savepath)"
   ]
  },
  {
   "cell_type": "code",
   "execution_count": null,
   "metadata": {},
   "outputs": [],
   "source": [
    "aperiod = 'arterial phase'\n",
    "vperiod = 'venous phase'"
   ]
  },
  {
   "cell_type": "code",
   "execution_count": null,
   "metadata": {},
   "outputs": [],
   "source": [
    "zeros_length = 0\n",
    "for i in zerosmask_lsit:\n",
    "    split_list = i.split('_')\n",
    "    tmp_img = Image.open(zerosmask_path+i)\n",
    "    if split_list[1]=='a':\n",
    "        tmp_period = aperiod\n",
    "    else:\n",
    "        tmp_period = vperiod\n",
    "    tmp_path = B_savepath+split_list[0]+'/'+tmp_period+'/'\n",
    "    if os.path.exists(tmp_path)==False:\n",
    "        os.makedirs(tmp_path)\n",
    "    tmp_img.save(tmp_path+split_list[2][:-4]+'_mask.png')\n",
    "    zeros_length+=1\n",
    "print('file length is {}'.format(zeros_length))"
   ]
  },
  {
   "cell_type": "code",
   "execution_count": null,
   "metadata": {},
   "outputs": [],
   "source": [
    "mask_length = 0\n",
    "for i in maskrcnn_list:\n",
    "    split_list = i.split('_')\n",
    "    #print(split_list)\n",
    "    tmp_img = Image.open(maskrcnn_path+i)\n",
    "    if split_list[1]=='a':\n",
    "        tmp_period = aperiod\n",
    "    else:\n",
    "        tmp_period = vperiod\n",
    "    tmp_path = B_savepath+split_list[0]+'/'+tmp_period+'/'\n",
    "    if os.path.exists(tmp_path)==False:\n",
    "        os.makedirs(tmp_path)\n",
    "    tmp_img.save(tmp_path+split_list[2]+'_mask.png')\n",
    "    mask_length+=1\n",
    "print('file length is {}'.format(mask_length))"
   ]
  },
  {
   "cell_type": "code",
   "execution_count": null,
   "metadata": {},
   "outputs": [],
   "source": [
    "pd.read_excel('/home/kb/Python_test/Taidi/Image_Segmentation-master/ISIC/dataset/cancer/临床数据.xlsx').head(2)"
   ]
  },
  {
   "cell_type": "markdown",
   "metadata": {},
   "source": [
    "Frame images"
   ]
  },
  {
   "cell_type": "code",
   "execution_count": null,
   "metadata": {},
   "outputs": [],
   "source": [
    "Paths = '/home/kb/Python_test/Taidi/Image_Segmentation-master/ISIC/dataset/cancer/数据集2/'\n",
    "Mask_Paths = '/home/kb/Python_test/Taidi/Image_Segmentation-master/ISIC/Prediction/B_question/'\n",
    "frames_save_path = './ISIC/five-video-classification-methods-master/data/cancer/'\n",
    "\n",
    "list_Paths = os.listdir(Paths)\n",
    "random.shuffle(list_Paths)\n",
    "\n",
    "df = pd.read_excel('/home/kb/Python_test/Taidi/Image_Segmentation-master/ISIC/dataset/cancer/临床数据.xlsx')#pd.read_csv('./ISIC/dataset/cancer/B题-全部数据/label2.csv', encoding = \"ISO-8859-1\")\n",
    "df = pd.DataFrame(df)\n",
    "def convertImage(raw):\n",
    "    img = np.array(raw)\n",
    "    img[img>255] = 255\n",
    "    mean = np.mean(img)\n",
    "    min_img = np.min(img)\n",
    "    if min_img<-1500:\n",
    "        min_img = min_img*(1.0/2.0)\n",
    "    #print(mean, min_img)\n",
    "    \n",
    "    img = img - mean\n",
    "    img = img*1.0 + mean*(mean/min_img)*1.1#修对比度和亮度\n",
    "    img = img/np.max(img)\n",
    "    #img[img>255] = 255\n",
    "    img[img<0] = 0\n",
    "    return img"
   ]
  },
  {
   "cell_type": "code",
   "execution_count": null,
   "metadata": {},
   "outputs": [],
   "source": [
    "testframes_save_path = './ISIC/five-video-classification-methods-master/data/cancer/test/'\n",
    "#rm_mkdir(frames_save_path)\n",
    "rm_mkdir(testframes_save_path+'/negative/')\n",
    "rm_mkdir(testframes_save_path+'/positive/')\n",
    "Loc = (170, 490, 100, 420)\n",
    "def convert_frames(root_paths, mask_root_path, list_root_paths, record, frame_test, loc, ratio = 0.7):\n",
    "    count = 0\n",
    "    data_file = []\n",
    "    tictoc =0 \n",
    "    for i in list_root_paths:\n",
    "        tmp_label = 'positive'\n",
    "        list_period_paths = os.listdir(root_paths+i+'/')\n",
    "        for j in list_period_paths:\n",
    "            count+=1\n",
    "            countmask = 0\n",
    "            list_patient_paths = os.listdir(root_paths+i+'/'+j+'/')\n",
    "            dcm_filenames = glob.glob(os.path.join(root_paths+i+'/'+j+'/', '*.dcm'))\n",
    "            dcm_filenames = sorted(dcm_filenames)\n",
    "            mask_filenames = glob.glob(os.path.join(mask_root_path+i+'/'+j+'/', '*.png'))\n",
    "            print()\n",
    "            mask_filenames = sorted(mask_filenames)\n",
    "            #for m, pngname in dcm_filenames, mask_filenames:\n",
    "            for k in range(len(dcm_filenames)):\n",
    "                m = dcm_filenames[k]\n",
    "                pngname = mask_filenames[k]\n",
    "                mask_img = Image.open(pngname).convert('L')\n",
    "                mask_img = np.array(mask_img)\n",
    "                if k+1<len(dcm_filenames):\n",
    "                    \n",
    "                    pngname_next = mask_filenames[k+1]\n",
    "                    mask_img_next = Image.open(pngname_next).convert('L')\n",
    "                    mask_img_next = np.array(mask_img_next)\n",
    "                else:\n",
    "                    #pngname_next = mask_filenames[k]\n",
    "                    #mask_img_next = Image.open(pngname)\n",
    "                    mask_img_next = mask_img\n",
    "                if (np.max(mask_img)>0) or (np.max(mask_img_next)>0):\n",
    "                    countmask+=1\n",
    "                    tmp_zeros = np.zeros(shape=(512,512,3))\n",
    "                    #mask_image = np.array(mask_image)\n",
    "                    image = sitk.ReadImage(m)\n",
    "                    image_array = sitk.GetArrayFromImage(image)\n",
    "                    dcm_image = image_array[0,:,:]\n",
    "                    convertImg = convertImage(dcm_image)\n",
    "                    #print(pngname, mask_img.shape, convertImg.shape)\n",
    "                    \n",
    "                    tmp_zeros[:,:,0] = 0.3*(mask_img[:,:]/255.)*convertImg[:,:] + convertImg[:,:]\n",
    "                    tmp_zeros[:,:,1] = 0.2*(mask_img[:,:]/255.)*convertImg[:,:] + convertImg[:,:]\n",
    "                    tmp_zeros[:,:,2] = 0.05*(mask_img[:,:]/255.)*convertImg[:,:] + convertImg[:,:]\n",
    "                    \n",
    "                    imgRevert = tmp_zeros[loc[0]:loc[1],loc[2]:loc[3],:]\n",
    "        \n",
    "                    #imgRevert = np.repeat(np.expand_dims(convertImg[loc[0]:loc[1],loc[2]:loc[3]],\n",
    "                    #                                     axis=2), 3, axis=2)\n",
    "                    m_split = m.split('/')[-1].split('.')[0]\n",
    "\n",
    "                    scipy.misc.imsave(frame_test+tmp_label+'/'+i+'_'+j[0]+'_au-'+m_split+'.jpg', imgRevert)\n",
    "            data_file.append(['test', tmp_label, i+'_'+j[0]+'_au', countmask])\n",
    "           \n",
    "        print(tmp_label, i, m_split, ' handling process is {}/{}'.format(tictoc, len(list_root_paths)))\n",
    "        tictoc+=1 \n",
    "    \n",
    "    with open(frames_save_path+'data_file_test.csv', 'w') as fout:\n",
    "        writer = csv.writer(fout)\n",
    "        writer.writerows(data_file)\n",
    "    return data_file"
   ]
  },
  {
   "cell_type": "code",
   "execution_count": null,
   "metadata": {
    "scrolled": true
   },
   "outputs": [],
   "source": [
    "DATA_FILE = convert_frames(Paths, Mask_Paths, list_Paths, df, testframes_save_path, Loc)"
   ]
  },
  {
   "cell_type": "code",
   "execution_count": null,
   "metadata": {},
   "outputs": [],
   "source": [
    "# Root directory of the project\n",
    "LRCN_DIR = os.path.abspath(\"./ISIC/five-video-classification-methods-master\")\n",
    "\n",
    "# Import Mask RCNN\n",
    "sys.path.append(LRCN_DIR)  # To find local version of the library"
   ]
  },
  {
   "cell_type": "code",
   "execution_count": null,
   "metadata": {},
   "outputs": [],
   "source": [
    "\"\"\"\n",
    "Validate our RNN. Basically just runs a validation generator on\n",
    "about the same number of videos as we have in our test set.\n",
    "\"\"\"\n",
    "from keras.callbacks import TensorBoard, ModelCheckpoint, CSVLogger\n",
    "from models import ResearchModels\n",
    "from data import DataSet\n",
    "import os.path\n",
    "os.environ['CUDA_VISIBLE_DEVICES'] = '2'\n",
    "import sys\n",
    "sys.path.append('./') \n",
    "\n",
    "def validate(data_type, model, seq_length=1, saved_model=None,\n",
    "             class_limit=None, image_shape=None):\n",
    "    batch_size = 40\n",
    "\n",
    "    # Get the data and process it.\n",
    "    if image_shape is None:\n",
    "        data = DataSet(\n",
    "            seq_length=seq_length,\n",
    "            class_limit=class_limit\n",
    "        )\n",
    "    else:\n",
    "        data = DataSet(\n",
    "            seq_length=seq_length,\n",
    "            class_limit=class_limit,\n",
    "            image_shape=image_shape\n",
    "        )\n",
    "\n",
    "    #val_generator = data.frame_generator(batch_size, 'test', data_type)\n",
    "    X_test, y_test, filenames = data.get_all_sequences_in_memory('test', data_type)\n",
    "\n",
    "    # Get the model.\n",
    "    rm = ResearchModels(len(data.classes), model, seq_length, saved_model)\n",
    "\n",
    "    # Evaluate!\n",
    "    results = rm.model.predict(\n",
    "        x=X_test)\n",
    "\n",
    "    #print(results)\n",
    "    #print(rm.model.metrics_names)\n",
    "    return results, y_test, filenames\n"
   ]
  },
  {
   "cell_type": "code",
   "execution_count": null,
   "metadata": {},
   "outputs": [],
   "source": [
    "#def main():\n",
    "\n",
    "model = 'lrcn'\n",
    "saved_model = 'data/checkpoints/lrcn-images.127-0.230.hdf5'\n",
    "\n",
    "if model == 'conv_3d' or model == 'lrcn':\n",
    "    data_type = 'images'\n",
    "    image_shape = (128, 128, 3)\n",
    "else:\n",
    "    data_type = 'features'\n",
    "    image_shape = None\n",
    "seq_length = 1\n",
    "pre, y_true, file = validate(data_type, model, saved_model=saved_model,\n",
    "         image_shape=image_shape, class_limit=4)\n",
    "\n",
    "# if __name__ == '__main__':\n",
    "#     main()\n"
   ]
  },
  {
   "cell_type": "code",
   "execution_count": null,
   "metadata": {},
   "outputs": [],
   "source": []
  },
  {
   "cell_type": "code",
   "execution_count": null,
   "metadata": {},
   "outputs": [],
   "source": []
  }
 ],
 "metadata": {
  "kernelspec": {
   "display_name": "Python 3",
   "language": "python",
   "name": "python3"
  },
  "language_info": {
   "codemirror_mode": {
    "name": "ipython",
    "version": 3
   },
   "file_extension": ".py",
   "mimetype": "text/x-python",
   "name": "python",
   "nbconvert_exporter": "python",
   "pygments_lexer": "ipython3",
   "version": "3.6.8"
  }
 },
 "nbformat": 4,
 "nbformat_minor": 2
}
