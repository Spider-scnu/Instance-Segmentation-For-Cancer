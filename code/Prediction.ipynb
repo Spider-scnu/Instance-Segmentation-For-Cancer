{
 "cells": [
  {
   "cell_type": "code",
   "execution_count": null,
   "metadata": {
    "scrolled": true
   },
   "outputs": [],
   "source": [
    "import dicom\n",
    "import numpy as np\n",
    "import os\n",
    "from PIL import Image\n",
    "import shutil\n",
    "import scipy.misc\n",
    "import random\n",
    "from matplotlib import pyplot as plt\n",
    "import SimpleITK as sitk\n",
    "import json\n",
    "from torchvision import transforms as T\n",
    "from torchvision.transforms import functional as F\n",
    "os.environ['CUDA_VISIBLE_DEVICES'] = '2'\n",
    "\n",
    "def rm_mkdir(dir_path):\n",
    "    if os.path.exists(dir_path):\n",
    "        shutil.rmtree(dir_path)\n",
    "        print('Remove path - %s'%dir_path)\n",
    "    os.makedirs(dir_path)\n",
    "    print('Create path - %s'%dir_path)"
   ]
  },
  {
   "cell_type": "markdown",
   "metadata": {},
   "source": [
    "### F1 - score"
   ]
  },
  {
   "cell_type": "markdown",
   "metadata": {},
   "source": [
    "mask_rcnn_balloon_0148.h5"
   ]
  },
  {
   "cell_type": "code",
   "execution_count": null,
   "metadata": {},
   "outputs": [],
   "source": [
    "(1351 + 4445-673)/(1795+4445)"
   ]
  },
  {
   "cell_type": "markdown",
   "metadata": {},
   "source": [
    "mask_rcnn_balloon_0133.h5"
   ]
  },
  {
   "cell_type": "code",
   "execution_count": null,
   "metadata": {},
   "outputs": [],
   "source": [
    "(1404 + 4445-673)/(1795+4445)"
   ]
  },
  {
   "cell_type": "code",
   "execution_count": null,
   "metadata": {},
   "outputs": [],
   "source": [
    "import numpy as np\n",
    "all_positive = 1795\n",
    "all_negative = 4445\n",
    "tp = np.array([1703, 1703, 1700, 1694, 1696, 1693, 1692, 1693, 1690, 1689])\n",
    "fp = np.array([734, 728, 721, 711, 709, 692, 684, 681, 673, 662])"
   ]
  },
  {
   "cell_type": "code",
   "execution_count": null,
   "metadata": {},
   "outputs": [],
   "source": [
    "recall = tp/all_positive\n",
    "precision = tp/(fp+tp)\n",
    "f1 = 2*recall*precision/(precision+recall)\n",
    "precision"
   ]
  },
  {
   "cell_type": "markdown",
   "metadata": {},
   "source": [
    "### Prediction"
   ]
  },
  {
   "cell_type": "code",
   "execution_count": null,
   "metadata": {},
   "outputs": [],
   "source": [
    "### 數據路徑及分配路徑\n",
    "#Paths = './B题示例数据/CT影像/'\n",
    "Paths = './ISIC/dataset/cancer/B题-全部数据/数据集1/'\n",
    "list_Paths = os.listdir(Paths)\n",
    "Dataset = './ISIC/dataset/cancer/Input_pre/'\n",
    "Dataset_mask = './ISIC/dataset/cancer/Mask_pre/'"
   ]
  },
  {
   "cell_type": "code",
   "execution_count": null,
   "metadata": {},
   "outputs": [],
   "source": [
    "### 裁剪區域\n",
    "#Loc = (210, 466, 125, 381)\n",
    "Loc = (170, 490, 100, 420)\n",
    "# 230-430 189-321\n",
    "\n",
    "def convertImage(raw):\n",
    "    img = np.array(raw)\n",
    "    img[img>255] = 255\n",
    "    mean = np.mean(img)\n",
    "    min_img = np.min(img)\n",
    "    if min_img<-1500:\n",
    "        min_img = min_img*(1.0/2.0)\n",
    "    #print(mean, min_img)\n",
    "    \n",
    "    img = img - mean\n",
    "    img = img*1.0 + mean*(mean/min_img)*1.1#修对比度和亮度\n",
    "    img = img/np.max(img)\n",
    "    #img[img>255] = 255\n",
    "    img[img<0] = 0\n",
    "    return img\n",
    "\n",
    "def removeImage(dataset, dataset_mask, loc):\n",
    "    tictoc = 0\n",
    "    rm_mkdir(dataset)\n",
    "    rm_mkdir(dataset_mask)\n",
    "    for i in list_Paths:\n",
    "        list_PathClasses = os.listdir(Paths+i+'/')\n",
    "        for j in list_PathClasses:\n",
    "            list_Dcmfiles = os.listdir(Paths+i+'/'+j+'/')\n",
    "            negative = 0\n",
    "            for m in list_Dcmfiles:\n",
    "                tictoc+=1\n",
    "                \n",
    "                if '.dcm' in m:\n",
    "                    #print(m)\n",
    "                    image = sitk.ReadImage(Paths+i+'/'+j+'/'+m)\n",
    "                    image_array = sitk.GetArrayFromImage(image)\n",
    "                    dcm_image = image_array[0,:,:]\n",
    "                    convertImg = convertImage(dcm_image)\n",
    "                    imgRevert = np.repeat(np.expand_dims(convertImg[loc[0]:loc[1],loc[2]:loc[3]],\n",
    "                                                         axis=2), 3, axis=2)\n",
    "                    scipy.misc.imsave(dataset+i+'_'+j[0]+'_'+m[:-4]+'.png', imgRevert)\n",
    "                    \n",
    "                    #print(dataset+i+'_'+j[0]+'_'+m[:-4]+'.png')\n",
    "                    tmp_img = np.zeros_like(dcm_image)\n",
    "                    tmp_maskar = tmp_img[loc[0]:loc[1],loc[2]:loc[3]]\n",
    "                    tmp_maskar = np.repeat(np.expand_dims(tmp_maskar,\n",
    "                                                         axis=2), 3, axis=2)\n",
    "\n",
    "                    scipy.misc.imsave(dataset_mask+i+'_'+j[0]+'_'+m[:-4]+'_mask.png', tmp_maskar)\n",
    "                    #print(dataset_mask+i+'_'+j[0]+'_'+m[:-4]+'_mask.png')\n",
    "                if tictoc%1000==0:\n",
    "                    print('patient is {}, negative samples are {}'.format(i, negative))\n"
   ]
  },
  {
   "cell_type": "code",
   "execution_count": null,
   "metadata": {},
   "outputs": [],
   "source": [
    "removeImage(Dataset, Dataset_mask, Loc)"
   ]
  },
  {
   "cell_type": "markdown",
   "metadata": {},
   "source": [
    "### Convert prediction to .json for Mask R-cnn"
   ]
  },
  {
   "cell_type": "code",
   "execution_count": null,
   "metadata": {},
   "outputs": [],
   "source": [
    "Paths_mask_pre = './ISIC/Prediction/forwardoutputTest_GT/'\n"
   ]
  },
  {
   "cell_type": "code",
   "execution_count": null,
   "metadata": {},
   "outputs": [],
   "source": [
    "def mask2json(paths):\n",
    "    tmp_json = {}\n",
    "    MaskImgs_list = os.listdir(paths)\n",
    "    for i in MaskImgs_list:\n",
    "        tmp_img = Image.open(paths+i).convert('L')\n",
    "        tmp_img = np.array(tmp_img)\n",
    "        query = np.where(tmp_img!=0)\n",
    "\n",
    "        tmp_json[i+str(random.randint(1,10000))] = {'filename' : i[:-9]+'.png',\n",
    "                                                    'regions' : {'0' : {'shape_attributes' :\n",
    "                                                                        {'name' : 'ploygon', \n",
    "                                                                         'all_points_x' : query[1].tolist(),\n",
    "                                                                         'all_points_y' : query[0].tolist()}}}}\n",
    "    return tmp_json"
   ]
  },
  {
   "cell_type": "code",
   "execution_count": null,
   "metadata": {},
   "outputs": [],
   "source": [
    "# val\n",
    "json_val = mask2json(Paths_mask_pre)\n",
    "rm_mkdir('./ISIC/Mask_RCNN-master/dataset/Predict/train/')\n",
    "json.dump(json_val, open('./ISIC/Mask_RCNN-master/dataset/Predict/train/via_region_data.json', 'w'))\n",
    "! cp -r ./ISIC/Prediction/forwardoutputTest/* ./ISIC/Mask_RCNN-master/dataset/Predict/train/"
   ]
  },
  {
   "cell_type": "code",
   "execution_count": null,
   "metadata": {},
   "outputs": [],
   "source": [
    "len(os.listdir(Paths_mask_pre))"
   ]
  },
  {
   "cell_type": "code",
   "execution_count": null,
   "metadata": {},
   "outputs": [],
   "source": []
  },
  {
   "cell_type": "code",
   "execution_count": null,
   "metadata": {},
   "outputs": [],
   "source": []
  },
  {
   "cell_type": "code",
   "execution_count": null,
   "metadata": {},
   "outputs": [],
   "source": []
  }
 ],
 "metadata": {
  "kernelspec": {
   "display_name": "Python 3",
   "language": "python",
   "name": "python3"
  },
  "language_info": {
   "codemirror_mode": {
    "name": "ipython",
    "version": 3
   },
   "file_extension": ".py",
   "mimetype": "text/x-python",
   "name": "python",
   "nbconvert_exporter": "python",
   "pygments_lexer": "ipython3",
   "version": "3.6.8"
  }
 },
 "nbformat": 4,
 "nbformat_minor": 2
}
